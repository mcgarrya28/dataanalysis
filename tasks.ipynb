{
 "cells": [
  {
   "cell_type": "markdown",
   "metadata": {},
   "source": [
    "# Fundamentals of Data Analysis Tasks\n",
    "\n",
    "**Anthony McGarry**\n",
    "\n",
    "***"
   ]
  },
  {
   "cell_type": "markdown",
   "metadata": {},
   "source": [
    "## Task 1\n",
    "\n",
    "> The Collatz conjecture is a famous unsolved problem in mathematics. The problem is to prove that if you start with any positive integer x and repeatedly apply the function $f(x)$ below, you always get stuck in the repeating sequence 1, 4, 2, 1, 4, 2, . . "
   ]
  },
  {
   "cell_type": "code",
   "execution_count": 13,
   "metadata": {},
   "outputs": [],
   "source": [
    "def f(x):\n",
    "  # If x is even, divide it by two.\n",
    "  if x % 2 == 0:\n",
    "    return x // 2\n",
    "  else:\n",
    "    return (3 * x) + 1"
   ]
  },
  {
   "cell_type": "code",
   "execution_count": 14,
   "metadata": {},
   "outputs": [],
   "source": [
    "def collatz(x):\n",
    "  print(f'Initial testing Collatz with inital value {x}')\n",
    "  \n",
    "  while x != 1:\n",
    "    x = f(x)\n",
    "    print(x, end = ',')\n",
    "    "
   ]
  },
  {
   "cell_type": "code",
   "execution_count": 15,
   "metadata": {},
   "outputs": [
    {
     "name": "stdout",
     "output_type": "stream",
     "text": [
      "Initial testing Collatz with inital value 587\n",
      "1762,881,2644,1322,661,1984,992,496,248,124,62,31,94,47,142,71,214,107,322,161,484,242,121,364,182,91,274,137,412,206,103,310,155,466,233,700,350,175,526,263,790,395,1186,593,1780,890,445,1336,668,334,167,502,251,754,377,1132,566,283,850,425,1276,638,319,958,479,1438,719,2158,1079,3238,1619,4858,2429,7288,3644,1822,911,2734,1367,4102,2051,6154,3077,9232,4616,2308,1154,577,1732,866,433,1300,650,325,976,488,244,122,61,184,92,46,23,70,35,106,53,160,80,40,20,10,5,16,8,4,2,1,"
     ]
    }
   ],
   "source": [
    "collatz(587)"
   ]
  },
  {
   "cell_type": "code",
   "execution_count": 16,
   "metadata": {},
   "outputs": [
    {
     "name": "stdout",
     "output_type": "stream",
     "text": [
      "The Collatz Conjecture is true for all numbers up to 10000\n"
     ]
    }
   ],
   "source": [
    "def verify_collatz(limit):\n",
    "    for i in range(1, limit + 1):\n",
    "        x = i  # Initialize x with the original value of i\n",
    "        while x != 1:\n",
    "            x = f(x)\n",
    "            if x == 1:\n",
    "                break\n",
    "        if x != 1:\n",
    "            print(f'The Collatz Conjecture is not true for {i}.')\n",
    "            return\n",
    "\n",
    "    print('The Collatz Conjecture is true for all numbers up to', limit)\n",
    "\n",
    "# Verify the Collatz Conjecture for the first 10,000 positive integers\n",
    "verify_collatz(10000)"
   ]
  },
  {
   "cell_type": "markdown",
   "metadata": {},
   "source": [
    "***\n",
    "\n",
    "## End"
   ]
  },
  {
   "cell_type": "markdown",
   "metadata": {},
   "source": [
    "## Task 2\n",
    "\n",
    "> Give an overview of the famous penguins data set,explaining the types of variables it contains. Suggest the types of variables that should be used to model them in Python, explaining your rationale."
   ]
  },
  {
   "cell_type": "markdown",
   "metadata": {},
   "source": [
    "Categorical Variables:\n",
    "\n",
    "Species: The species of the penguins (e.g., Adelie, Gentoo, Chinstrap). This is a categorical variable as penguins belong to distinct species categories.\n",
    "\n",
    "Island: The island where the penguins were observed (e.g., Torgersen, Biscoe, Dream). This is also categorical as there are specific islands.\n",
    "\n",
    "Sex: The gender of the penguin (e.g., Male, Female)."
   ]
  },
  {
   "cell_type": "markdown",
   "metadata": {},
   "source": [
    "Numerical Variables:\n",
    "\n",
    "Bill Length (mm): The length of the penguin's bill, which is a continuous numerical variable.\n",
    "\n",
    "Bill Depth (mm): The depth of the penguin's bill, also continuous.\n",
    "\n",
    "Flipper Length (mm): The length of the penguin's flippers.\n",
    "\n",
    "Body Mass (g): The weight of the penguin's body."
   ]
  },
  {
   "cell_type": "markdown",
   "metadata": {},
   "source": [
    "Ordinal Variables:\n",
    "\n",
    "Stage: The developmental stage of the penguins (e.g., Adult, Juvenile). This is ordinal as it represents a ranking or order.\n",
    "\n",
    "Datetime Variable:\n",
    "\n",
    "Date: The date of observation.\n",
    "\n"
   ]
  },
  {
   "cell_type": "markdown",
   "metadata": {},
   "source": [
    "Boolean Variable:\n",
    "\n",
    "HasEgg: A binary variable indicating whether the penguin has an egg or not."
   ]
  },
  {
   "cell_type": "markdown",
   "metadata": {},
   "source": [
    ">Reference:\n",
    "\n",
    "https://www.analyticsvidhya.com/blog/2022/04/data-exploration-and-visualisation-using-palmer-penguins-dataset/\n"
   ]
  }
 ],
 "metadata": {
  "kernelspec": {
   "display_name": "base",
   "language": "python",
   "name": "python3"
  },
  "language_info": {
   "codemirror_mode": {
    "name": "ipython",
    "version": 3
   },
   "file_extension": ".py",
   "mimetype": "text/x-python",
   "name": "python",
   "nbconvert_exporter": "python",
   "pygments_lexer": "ipython3",
   "version": "3.11.4"
  }
 },
 "nbformat": 4,
 "nbformat_minor": 2
}
